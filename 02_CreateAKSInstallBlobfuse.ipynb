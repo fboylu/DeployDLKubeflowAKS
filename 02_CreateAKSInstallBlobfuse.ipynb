{
 "cells": [
  {
   "cell_type": "markdown",
   "metadata": {},
   "source": [
    "# Install Kubeflow on Azure Kubernetes Services (AKS)"
   ]
  },
  {
   "cell_type": "markdown",
   "metadata": {},
   "source": [
    "In this notebook, we will first provision an AKS cluster and install Kubeflow tensorflow serving component."
   ]
  },
  {
   "cell_type": "code",
   "execution_count": 75,
   "metadata": {},
   "outputs": [],
   "source": [
    "from dotenv import set_key, get_key, find_dotenv\n",
    "from pathlib import Path"
   ]
  },
  {
   "cell_type": "markdown",
   "metadata": {},
   "source": [
    "## Setup"
   ]
  },
  {
   "cell_type": "markdown",
   "metadata": {},
   "source": [
    "Let's first define the names and configurations of the resources that will be provisioned on Azure."
   ]
  },
  {
   "cell_type": "code",
   "execution_count": 43,
   "metadata": {},
   "outputs": [],
   "source": [
    "subscription_id = 'your-subscription-id'\n",
    "resource_group = 'your-resource-group' #  i.e.'kuberg'\n",
    "location = 'your-cluster-region' # i.e. 'eastus'\n",
    "agent_size = 'your-agent-size' # i.e. 'Standard_NC6'\n",
    "aks_name = 'your-aks-name' # i.e. 'kubeaks'\n",
    "agent_count = 1 # agent count is the number of VMs that will be provisioned in the cluster, you can pick any number.\n",
    "storage_account = 'your_storage_account' # i.e. 'kubest'\n",
    "storage_container = 'your_storage_container' # i.e. 'blobfuse'"
   ]
  },
  {
   "cell_type": "markdown",
   "metadata": {},
   "source": [
    "Create and initialize a dotenv file for storing parameters used in multiple notebooks."
   ]
  },
  {
   "cell_type": "code",
   "execution_count": 76,
   "metadata": {},
   "outputs": [],
   "source": [
    "env_path = find_dotenv()\n",
    "if env_path == \"\":\n",
    "    Path(\".env\").touch()\n",
    "    env_path = find_dotenv()"
   ]
  },
  {
   "cell_type": "code",
   "execution_count": 77,
   "metadata": {},
   "outputs": [
    {
     "data": {
      "text/plain": [
       "(True, 'storage_container', 'blobfuse')"
      ]
     },
     "execution_count": 77,
     "metadata": {},
     "output_type": "execute_result"
    }
   ],
   "source": [
    "set_key(env_path, 'subscription_id', subscription_id) \n",
    "set_key(env_path, 'resource_group', resource_group)\n",
    "set_key(env_path, 'storage_account', storage_account)\n",
    "set_key(env_path, 'storage_container', storage_container)"
   ]
  },
  {
   "cell_type": "markdown",
   "metadata": {},
   "source": [
    "## Create resource group and AKS cluster"
   ]
  },
  {
   "cell_type": "code",
   "execution_count": 3,
   "metadata": {},
   "outputs": [
    {
     "name": "stdout",
     "output_type": "stream",
     "text": [
      "\u001b[0m"
     ]
    }
   ],
   "source": [
    "!az account set -s {subscription_id}"
   ]
  },
  {
   "cell_type": "code",
   "execution_count": 71,
   "metadata": {},
   "outputs": [],
   "source": [
    "!az group create --name {resource_group} --location {location}"
   ]
  },
  {
   "cell_type": "code",
   "execution_count": 53,
   "metadata": {},
   "outputs": [],
   "source": [
    "!az aks create --node-vm-size {agent_size} --resource-group {resource_group} --name {aks_name} --node-count {agent_count} --kubernetes-version 1.11.6  --generate-ssh-keys --query 'provisioningState'"
   ]
  },
  {
   "cell_type": "markdown",
   "metadata": {},
   "source": [
    "Install kubectl to connect to the Kubernetes cluster."
   ]
  },
  {
   "cell_type": "code",
   "execution_count": 24,
   "metadata": {},
   "outputs": [
    {
     "name": "stdout",
     "output_type": "stream",
     "text": [
      "\u001b[33mDownloading client to \"/usr/local/bin/kubectl\" from \"https://storage.googleapis.com/kubernetes-release/release/v1.13.3/bin/linux/amd64/kubectl\"\u001b[0m\n",
      "\u001b[33mPlease ensure that /usr/local/bin is in your search PATH, so the `kubectl` command can be found.\u001b[0m\n"
     ]
    }
   ],
   "source": [
    "!sudo az aks install-cli"
   ]
  },
  {
   "cell_type": "markdown",
   "metadata": {},
   "source": [
    "Now, let's connect to AKS cluster and get the nodes."
   ]
  },
  {
   "cell_type": "code",
   "execution_count": 25,
   "metadata": {},
   "outputs": [
    {
     "name": "stdout",
     "output_type": "stream",
     "text": [
      "Merged \"fboylukubeaks\" as current context in /home/fboylu/.kube/config\n",
      "\u001b[0m"
     ]
    }
   ],
   "source": [
    "!az aks get-credentials --resource-group {resource_group} --name {aks_name}"
   ]
  },
  {
   "cell_type": "code",
   "execution_count": 4,
   "metadata": {},
   "outputs": [
    {
     "name": "stdout",
     "output_type": "stream",
     "text": [
      "NAME                       STATUS   ROLES   AGE   VERSION\r\n",
      "aks-nodepool1-38912874-0   Ready    agent   3h    v1.11.6\r\n"
     ]
    }
   ],
   "source": [
    "!kubectl get nodes"
   ]
  },
  {
   "cell_type": "markdown",
   "metadata": {},
   "source": [
    "Let's check the first node."
   ]
  },
  {
   "cell_type": "code",
   "execution_count": 41,
   "metadata": {},
   "outputs": [],
   "source": [
    "node_names = !kubectl get nodes -o name\n",
    "!kubectl describe node {node_names[0].strip('node/')}"
   ]
  },
  {
   "cell_type": "markdown",
   "metadata": {},
   "source": [
    "Deploy the following deamonset to enable GPU support in Kubernetes."
   ]
  },
  {
   "cell_type": "code",
   "execution_count": 41,
   "metadata": {},
   "outputs": [
    {
     "name": "stdout",
     "output_type": "stream",
     "text": [
      "daemonset.extensions/nvidia-device-plugin-daemonset created\r\n"
     ]
    }
   ],
   "source": [
    "!kubectl create -f https://raw.githubusercontent.com/NVIDIA/k8s-device-plugin/v1.11/nvidia-device-plugin.yml"
   ]
  },
  {
   "cell_type": "code",
   "execution_count": 6,
   "metadata": {},
   "outputs": [
    {
     "name": "stdout",
     "output_type": "stream",
     "text": [
      "NAMESPACE     NAME                                    READY   STATUS    RESTARTS   AGE\r\n",
      "kube-system   heapster-5d6f9b846c-49cx7               2/2     Running   0          3h\r\n",
      "kube-system   kube-dns-autoscaler-746998ccf6-zfr9d    1/1     Running   0          3h\r\n",
      "kube-system   kube-dns-v20-7c7d7d4c66-4pj7b           4/4     Running   0          3h\r\n",
      "kube-system   kube-dns-v20-7c7d7d4c66-npvps           4/4     Running   0          3h\r\n",
      "kube-system   kube-proxy-dq2g7                        1/1     Running   0          3h\r\n",
      "kube-system   kube-svc-redirect-mbn57                 2/2     Running   0          3h\r\n",
      "kube-system   kubernetes-dashboard-67bdc65878-62vr5   1/1     Running   1          3h\r\n",
      "kube-system   metrics-server-5cbc77f79f-6fqzv         1/1     Running   1          3h\r\n",
      "kube-system   nvidia-device-plugin-daemonset-6z2p2    1/1     Running   0          2h\r\n",
      "kube-system   tunnelfront-9d6ff8797-7frcr             1/1     Running   0          3h\r\n"
     ]
    }
   ],
   "source": [
    "!kubectl get pods --all-namespaces"
   ]
  },
  {
   "cell_type": "markdown",
   "metadata": {},
   "source": [
    "## Attach blobfuse on AKS"
   ]
  },
  {
   "cell_type": "markdown",
   "metadata": {},
   "source": [
    "We will use [blobfuse](https://docs.microsoft.com/en-us/azure/storage/blobs/storage-how-to-mount-container-linux) using [blobfuse volume driver for Kubernetes](https://github.com/Azure/kubernetes-volume-drivers/tree/master/flexvolume/blobfuse) to store the model servables for Kubeflow tensorflow serving component to serve the model from. The driver requires that a storage account and a container created in the same region with the kubernetes cluster. "
   ]
  },
  {
   "cell_type": "markdown",
   "metadata": {},
   "source": [
    "### Create storage account and copy model servable"
   ]
  },
  {
   "cell_type": "markdown",
   "metadata": {},
   "source": [
    "Let's first create that storage account."
   ]
  },
  {
   "cell_type": "code",
   "execution_count": 54,
   "metadata": {},
   "outputs": [],
   "source": [
    "!az storage account create -n {storage_account} -g {resource_group} --query 'provisioningState'"
   ]
  },
  {
   "cell_type": "markdown",
   "metadata": {},
   "source": [
    "Let's get the first storage acount key."
   ]
  },
  {
   "cell_type": "code",
   "execution_count": 51,
   "metadata": {},
   "outputs": [],
   "source": [
    "key = !az storage account keys list --account-name {storage_account} -g {resource_group} --query '[0].value'\n",
    "storage_account_key = str(key[0][1:-1]) # clean up key"
   ]
  },
  {
   "cell_type": "markdown",
   "metadata": {},
   "source": [
    "Create the container to be used by blobfuse driver."
   ]
  },
  {
   "cell_type": "code",
   "execution_count": 52,
   "metadata": {},
   "outputs": [
    {
     "name": "stdout",
     "output_type": "stream",
     "text": [
      "{\r\n",
      "  \"created\": true\r\n",
      "}\r\n",
      "\u001b[0m"
     ]
    }
   ],
   "source": [
    "!az storage container create --account-name {storage_account} --account-key {storage_account_key} --name {storage_container}"
   ]
  },
  {
   "cell_type": "markdown",
   "metadata": {},
   "source": [
    "Now, we can upload the model servables to the container. This step requires that you have azcopy installed."
   ]
  },
  {
   "cell_type": "code",
   "execution_count": 65,
   "metadata": {},
   "outputs": [
    {
     "data": {
      "text/plain": [
       "'https://fboylukubest.blob.core.windows.net/blobfuse'"
      ]
     },
     "execution_count": 65,
     "metadata": {},
     "output_type": "execute_result"
    }
   ],
   "source": [
    "destination = 'https://{}.blob.core.windows.net/{}'.format(storage_account, storage_container)"
   ]
  },
  {
   "cell_type": "code",
   "execution_count": 67,
   "metadata": {},
   "outputs": [
    {
     "name": "stdout",
     "output_type": "stream",
     "text": [
      "\u001b[?1h\u001b=\u001b[6nFinished: 0 file(s), 0 B; Average Speed:0 B/s.                                 \u001b[6n\u001b[1;1H\u001b[6nFinished: 0 file(s), 0 B; Average Speed:0 B/s.                                 \u001b[6n\u001b[1;1H\u001b[6nFinished: 0 file(s), 0 B; Average Speed:0 B/s.                                 \u001b[6n\u001b[1;1H\u001b[6nFinished: 0 file(s), 0 B; Average Speed:0 B/s.                                 \u001b[6n\u001b[1;1H\u001b[6nFinished: 0 file(s), 51.148 KB; Average Speed:5.15 KB/s.                       \u001b[6n\u001b[1;1H\u001b[6nFinished: 0 file(s), 188.201 MB; Average Speed:15.72 MB/s.                     \u001b[6n\u001b[1;1H\u001b[6nFinished: 2 file(s), 188.201 MB; Average Speed:13.42 MB/s.                     \u001b[6n\u001b[1;1H\u001b[6nFinished: 3 file(s), 188.201 MB; Average Speed:11.71 MB/s.                     \u001b[6n\u001b[1;1H\u001b[6n                                                                               \u001b[6n\u001b[1;1HFinished 3 of total 3 file(s).\n",
      "\u001b[6n                                                                               \u001b[6n\u001b[1;1H[2019/02/08 16:49:42] Transfer summary:\n",
      "-----------------\n",
      "Total files transferred: 3\n",
      "Transfer successfully:   3\n",
      "Transfer skipped:        0\n",
      "Transfer failed:         0\n",
      "Elapsed time:            00.00:00:20\n"
     ]
    }
   ],
   "source": [
    "!azcopy --source models --destination {destination} --dest-key {storage_account_key} --recursive"
   ]
  },
  {
   "cell_type": "markdown",
   "metadata": {},
   "source": [
    "### Install blobfuse driver on AKS"
   ]
  },
  {
   "cell_type": "markdown",
   "metadata": {},
   "source": [
    "We will deploy the following deamonset to enable blobfuse on every node of the cluster."
   ]
  },
  {
   "cell_type": "code",
   "execution_count": 68,
   "metadata": {},
   "outputs": [
    {
     "name": "stdout",
     "output_type": "stream",
     "text": [
      "namespace/flex created\n",
      "daemonset.apps/blobfuse-flexvol-installer created\n"
     ]
    }
   ],
   "source": [
    "! kubectl create -f https://raw.githubusercontent.com/Azure/kubernetes-volume-drivers/master/flexvolume/blobfuse/deployment/blobfuse-flexvol-installer-1.9.yaml"
   ]
  },
  {
   "cell_type": "code",
   "execution_count": 69,
   "metadata": {},
   "outputs": [
    {
     "name": "stdout",
     "output_type": "stream",
     "text": [
      "NAMESPACE     NAME                                    READY   STATUS    RESTARTS   AGE\r\n",
      "flex          blobfuse-flexvol-installer-bgqq2        1/1     Running   0          49s\r\n",
      "kube-system   heapster-5d6f9b846c-49cx7               2/2     Running   0          1d\r\n",
      "kube-system   kube-dns-autoscaler-746998ccf6-zfr9d    1/1     Running   0          1d\r\n",
      "kube-system   kube-dns-v20-7c7d7d4c66-4pj7b           4/4     Running   0          1d\r\n",
      "kube-system   kube-dns-v20-7c7d7d4c66-npvps           4/4     Running   0          1d\r\n",
      "kube-system   kube-proxy-dq2g7                        1/1     Running   0          1d\r\n",
      "kube-system   kube-svc-redirect-mbn57                 2/2     Running   0          1d\r\n",
      "kube-system   kubernetes-dashboard-67bdc65878-62vr5   1/1     Running   1          1d\r\n",
      "kube-system   metrics-server-5cbc77f79f-6fqzv         1/1     Running   1          1d\r\n",
      "kube-system   nvidia-device-plugin-daemonset-6z2p2    1/1     Running   0          1d\r\n",
      "kube-system   tunnelfront-9d6ff8797-7frcr             1/1     Running   0          1d\r\n"
     ]
    }
   ],
   "source": [
    "!kubectl get pods --all-namespaces"
   ]
  },
  {
   "cell_type": "code",
   "execution_count": 70,
   "metadata": {},
   "outputs": [
    {
     "name": "stdout",
     "output_type": "stream",
     "text": [
      "Name:           blobfuse-flexvol-installer\r\n",
      "Selector:       name=blobfuse\r\n",
      "Node-Selector:  beta.kubernetes.io/os=linux\r\n",
      "Labels:         k8s-app=blobfuse\r\n",
      "Annotations:    deprecated.daemonset.template.generation: 1\r\n",
      "Desired Number of Nodes Scheduled: 1\r\n",
      "Current Number of Nodes Scheduled: 1\r\n",
      "Number of Nodes Scheduled with Up-to-date Pods: 1\r\n",
      "Number of Nodes Scheduled with Available Pods: 1\r\n",
      "Number of Nodes Misscheduled: 0\r\n",
      "Pods Status:  1 Running / 0 Waiting / 0 Succeeded / 0 Failed\r\n",
      "Pod Template:\r\n",
      "  Labels:  name=blobfuse\r\n",
      "  Containers:\r\n",
      "   blobfuse-flexvol-installer:\r\n",
      "    Image:        mcr.microsoft.com/k8s/flexvolume/blobfuse-flexvolume\r\n",
      "    Port:         <none>\r\n",
      "    Host Port:    <none>\r\n",
      "    Environment:  <none>\r\n",
      "    Mounts:\r\n",
      "      /etc/kubernetes/volumeplugins/ from volplugins (rw)\r\n",
      "      /var/log/ from varlog (rw)\r\n",
      "  Volumes:\r\n",
      "   varlog:\r\n",
      "    Type:          HostPath (bare host directory volume)\r\n",
      "    Path:          /var/log/\r\n",
      "    HostPathType:  \r\n",
      "   volplugins:\r\n",
      "    Type:          HostPath (bare host directory volume)\r\n",
      "    Path:          /etc/kubernetes/volumeplugins/\r\n",
      "    HostPathType:  \r\n",
      "Events:\r\n",
      "  Type    Reason            Age   From                  Message\r\n",
      "  ----    ------            ----  ----                  -------\r\n",
      "  Normal  SuccessfulCreate  67s   daemonset-controller  Created pod: blobfuse-flexvol-installer-bgqq2\r\n"
     ]
    }
   ],
   "source": [
    "!kubectl describe daemonset blobfuse-flexvol-installer --namespace=flex"
   ]
  },
  {
   "cell_type": "markdown",
   "metadata": {},
   "source": [
    "Now, we can move on to [installing Kubeflow and serving the model on AKS with kubeflow tensorflow serving component](03_ServeWithKubeflow.ipynb)."
   ]
  }
 ],
 "metadata": {
  "kernelspec": {
   "display_name": "Python [conda env:KubeflowEnv]",
   "language": "python",
   "name": "conda-env-KubeflowEnv-py"
  },
  "language_info": {
   "codemirror_mode": {
    "name": "ipython",
    "version": 3
   },
   "file_extension": ".py",
   "mimetype": "text/x-python",
   "name": "python",
   "nbconvert_exporter": "python",
   "pygments_lexer": "ipython3",
   "version": "3.6.2"
  }
 },
 "nbformat": 4,
 "nbformat_minor": 2
}
